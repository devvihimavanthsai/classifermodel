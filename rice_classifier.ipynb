{
 "cells": [
  {
   "cell_type": "code",
   "execution_count": 2,
   "id": "b5600970-4984-4c75-b0ce-2a00b533b0f1",
   "metadata": {},
   "outputs": [],
   "source": [
    "import os"
   ]
  },
  {
   "cell_type": "code",
   "execution_count": 3,
   "id": "301c4187-f0f5-4531-b0b5-a5e1481b2e1e",
   "metadata": {},
   "outputs": [
    {
     "data": {
      "text/plain": [
       "['Arborio', 'Basmati', 'Ipsala', 'Jasmine', 'Karacadag']"
      ]
     },
     "execution_count": 3,
     "metadata": {},
     "output_type": "execute_result"
    }
   ],
   "source": [
    "os.listdir(\"Rice_Image_Dataset\")\n"
   ]
  },
  {
   "cell_type": "code",
   "execution_count": 4,
   "id": "bbe81744-b2a4-44ff-87c7-0848b73146c2",
   "metadata": {},
   "outputs": [
    {
     "name": "stdout",
     "output_type": "stream",
     "text": [
      "Arborio: 15000 images\n",
      "Basmati: 15000 images\n",
      "Ipsala: 15000 images\n",
      "Jasmine: 15000 images\n",
      "Karacadag: 15000 images\n"
     ]
    }
   ],
   "source": [
    "import os\n",
    "\n",
    "original_path = \"Rice_Image_Dataset\"\n",
    "\n",
    "for class_name in os.listdir(original_path):\n",
    "    full_path = os.path.join(original_path, class_name)\n",
    "    if os.path.isdir(full_path):\n",
    "        print(f\"{class_name}: {len(os.listdir(full_path))} images\")\n"
   ]
  },
  {
   "cell_type": "code",
   "execution_count": 6,
   "id": "167c878a-e0ef-4d39-a795-4f78b00e8da5",
   "metadata": {},
   "outputs": [],
   "source": [
    "import os\n",
    "import shutil\n",
    "import random\n",
    "\n",
    "# Paths\n",
    "SOURCE_DIR = \"Rice_Image_Dataset\"\n",
    "DEST_DIR = \"small_split_dataset\"\n",
    "TRAIN_SIZE = 800\n",
    "TEST_SIZE = 200\n",
    "\n",
    "# Make base destination folders\n",
    "for subset in ['train', 'test']:\n",
    "    os.makedirs(os.path.join(DEST_DIR, subset), exist_ok=True)\n",
    "\n",
    "# Loop through each class\n",
    "for class_name in os.listdir(SOURCE_DIR):\n",
    "    class_path = os.path.join(SOURCE_DIR, class_name)\n",
    "    \n",
    "    # Skip if not a folder\n",
    "    if not os.path.isdir(class_path):\n",
    "        continue\n",
    "    \n",
    "    # List and shuffle image files\n",
    "    images = os.listdir(class_path)\n",
    "    random.shuffle(images)\n",
    "    \n",
    "    # Select only 1000 images\n",
    "    selected_images = images[:TRAIN_SIZE + TEST_SIZE]\n",
    "    train_imgs = selected_images[:TRAIN_SIZE]\n",
    "    test_imgs = selected_images[TRAIN_SIZE:]\n",
    "    \n",
    "    # Create class folders\n",
    "    train_class_dir = os.path.join(DEST_DIR, 'train', class_name)\n",
    "    test_class_dir = os.path.join(DEST_DIR, 'test', class_name)\n",
    "    os.makedirs(train_class_dir, exist_ok=True)\n",
    "    os.makedirs(test_class_dir, exist_ok=True)\n",
    "    \n",
    "    # Copy train images\n",
    "    for img in train_imgs:\n",
    "        shutil.copy(os.path.join(class_path, img), os.path.join(train_class_dir, img))\n",
    "    \n",
    "    # Copy test images\n",
    "    for img in test_imgs:\n",
    "        shutil.copy(os.path.join(class_path, img), os.path.join(test_class_dir, img))\n"
   ]
  },
  {
   "cell_type": "code",
   "execution_count": 7,
   "id": "60738254-3db6-4476-9020-8094f2cc2184",
   "metadata": {},
   "outputs": [
    {
     "name": "stdout",
     "output_type": "stream",
     "text": [
      "Found 4000 images belonging to 5 classes.\n",
      "Found 1000 images belonging to 5 classes.\n"
     ]
    }
   ],
   "source": [
    "from tensorflow.keras.preprocessing.image import ImageDataGenerator\n",
    "\n",
    "# New dataset paths\n",
    "train_path = \"small_split_dataset/train\"\n",
    "test_path = \"small_split_dataset/test\"\n",
    "\n",
    "IMAGE_SIZE = (224, 224)\n",
    "BATCH_SIZE = 32\n",
    "\n",
    "# Training data generator with augmentation\n",
    "train_datagen = ImageDataGenerator(\n",
    "    rescale=1./255,\n",
    "    shear_range=0.2,\n",
    "    zoom_range=0.2,\n",
    "    horizontal_flip=True\n",
    ")\n",
    "\n",
    "# Test data generator (only rescaling)\n",
    "test_datagen = ImageDataGenerator(rescale=1./255)\n",
    "\n",
    "# Load training data\n",
    "train_set = train_datagen.flow_from_directory(\n",
    "    train_path,\n",
    "    target_size=IMAGE_SIZE,\n",
    "    batch_size=BATCH_SIZE,\n",
    "    class_mode='categorical'\n",
    ")\n",
    "\n",
    "# Load test data\n",
    "test_set = test_datagen.flow_from_directory(\n",
    "    test_path,\n",
    "    target_size=IMAGE_SIZE,\n",
    "    batch_size=BATCH_SIZE,\n",
    "    class_mode='categorical'\n",
    ")\n"
   ]
  },
  {
   "cell_type": "code",
   "execution_count": 8,
   "id": "d506c8ea-1391-406e-977e-7b9c26316504",
   "metadata": {},
   "outputs": [
    {
     "name": "stdout",
     "output_type": "stream",
     "text": [
      "Epoch 1/10\n",
      "\u001b[1m125/125\u001b[0m \u001b[32m━━━━━━━━━━━━━━━━━━━━\u001b[0m\u001b[37m\u001b[0m \u001b[1m244s\u001b[0m 2s/step - accuracy: 0.8417 - loss: 0.4849 - val_accuracy: 0.9620 - val_loss: 0.0938\n",
      "Epoch 2/10\n",
      "\u001b[1m125/125\u001b[0m \u001b[32m━━━━━━━━━━━━━━━━━━━━\u001b[0m\u001b[37m\u001b[0m \u001b[1m126s\u001b[0m 1s/step - accuracy: 0.9655 - loss: 0.0997 - val_accuracy: 0.9740 - val_loss: 0.0702\n",
      "Epoch 3/10\n",
      "\u001b[1m125/125\u001b[0m \u001b[32m━━━━━━━━━━━━━━━━━━━━\u001b[0m\u001b[37m\u001b[0m \u001b[1m126s\u001b[0m 1s/step - accuracy: 0.9706 - loss: 0.0893 - val_accuracy: 0.9660 - val_loss: 0.1023\n",
      "Epoch 4/10\n",
      "\u001b[1m125/125\u001b[0m \u001b[32m━━━━━━━━━━━━━━━━━━━━\u001b[0m\u001b[37m\u001b[0m \u001b[1m125s\u001b[0m 1000ms/step - accuracy: 0.9713 - loss: 0.0864 - val_accuracy: 0.9680 - val_loss: 0.0808\n",
      "Epoch 5/10\n",
      "\u001b[1m125/125\u001b[0m \u001b[32m━━━━━━━━━━━━━━━━━━━━\u001b[0m\u001b[37m\u001b[0m \u001b[1m125s\u001b[0m 998ms/step - accuracy: 0.9825 - loss: 0.0522 - val_accuracy: 0.9800 - val_loss: 0.0466\n",
      "Epoch 6/10\n",
      "\u001b[1m125/125\u001b[0m \u001b[32m━━━━━━━━━━━━━━━━━━━━\u001b[0m\u001b[37m\u001b[0m \u001b[1m126s\u001b[0m 1s/step - accuracy: 0.9800 - loss: 0.0536 - val_accuracy: 0.9800 - val_loss: 0.0561\n",
      "Epoch 7/10\n",
      "\u001b[1m125/125\u001b[0m \u001b[32m━━━━━━━━━━━━━━━━━━━━\u001b[0m\u001b[37m\u001b[0m \u001b[1m125s\u001b[0m 998ms/step - accuracy: 0.9843 - loss: 0.0438 - val_accuracy: 0.9240 - val_loss: 0.2328\n",
      "Epoch 8/10\n",
      "\u001b[1m125/125\u001b[0m \u001b[32m━━━━━━━━━━━━━━━━━━━━\u001b[0m\u001b[37m\u001b[0m \u001b[1m125s\u001b[0m 997ms/step - accuracy: 0.9715 - loss: 0.0796 - val_accuracy: 0.9790 - val_loss: 0.0536\n",
      "Epoch 9/10\n",
      "\u001b[1m125/125\u001b[0m \u001b[32m━━━━━━━━━━━━━━━━━━━━\u001b[0m\u001b[37m\u001b[0m \u001b[1m124s\u001b[0m 995ms/step - accuracy: 0.9816 - loss: 0.0587 - val_accuracy: 0.9450 - val_loss: 0.1675\n",
      "Epoch 10/10\n",
      "\u001b[1m125/125\u001b[0m \u001b[32m━━━━━━━━━━━━━━━━━━━━\u001b[0m\u001b[37m\u001b[0m \u001b[1m124s\u001b[0m 994ms/step - accuracy: 0.9792 - loss: 0.0667 - val_accuracy: 0.9850 - val_loss: 0.0411\n"
     ]
    }
   ],
   "source": [
    "from tensorflow.keras.applications import MobileNet\n",
    "from tensorflow.keras.models import Model\n",
    "from tensorflow.keras.layers import Dense, GlobalAveragePooling2D\n",
    "from tensorflow.keras.optimizers import Adam\n",
    "\n",
    "# Load base MobileNet\n",
    "base_model = MobileNet(input_shape=(224, 224, 3), include_top=False, weights='imagenet')\n",
    "\n",
    "# Freeze base model layers\n",
    "for layer in base_model.layers:\n",
    "    layer.trainable = False\n",
    "\n",
    "# Add custom head\n",
    "x = base_model.output\n",
    "x = GlobalAveragePooling2D()(x)\n",
    "x = Dense(1024, activation='relu')(x)\n",
    "x = Dense(512, activation='relu')(x)\n",
    "predictions = Dense(5, activation='softmax')(x)\n",
    "\n",
    "# Compile the model\n",
    "model = Model(inputs=base_model.input, outputs=predictions)\n",
    "model.compile(optimizer=Adam(), loss='categorical_crossentropy', metrics=['accuracy'])\n",
    "\n",
    "# Train the model\n",
    "history = model.fit(train_set, validation_data=test_set, epochs=10)\n"
   ]
  },
  {
   "cell_type": "code",
   "execution_count": null,
   "id": "a25926f3-5adf-4f6f-9949-7a6f9388b34c",
   "metadata": {},
   "outputs": [],
   "source": []
  }
 ],
 "metadata": {
  "kernelspec": {
   "display_name": "Python 3 (ipykernel)",
   "language": "python",
   "name": "python3"
  },
  "language_info": {
   "codemirror_mode": {
    "name": "ipython",
    "version": 3
   },
   "file_extension": ".py",
   "mimetype": "text/x-python",
   "name": "python",
   "nbconvert_exporter": "python",
   "pygments_lexer": "ipython3",
   "version": "3.12.7"
  }
 },
 "nbformat": 4,
 "nbformat_minor": 5
}
