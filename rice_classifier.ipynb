{
 "cells": [
  {
   "cell_type": "code",
   "execution_count": 2,
   "id": "b5600970-4984-4c75-b0ce-2a00b533b0f1",
   "metadata": {},
   "outputs": [],
   "source": [
    "import os"
   ]
  },
  {
   "cell_type": "code",
   "execution_count": 3,
   "id": "301c4187-f0f5-4531-b0b5-a5e1481b2e1e",
   "metadata": {},
   "outputs": [
    {
     "data": {
      "text/plain": [
       "['Arborio', 'Basmati', 'Ipsala', 'Jasmine', 'Karacadag']"
      ]
     },
     "execution_count": 3,
     "metadata": {},
     "output_type": "execute_result"
    }
   ],
   "source": [
    "os.listdir(\"Rice_Image_Dataset\")\n"
   ]
  },
  {
   "cell_type": "code",
   "execution_count": 4,
   "id": "bbe81744-b2a4-44ff-87c7-0848b73146c2",
   "metadata": {},
   "outputs": [
    {
     "name": "stdout",
     "output_type": "stream",
     "text": [
      "Arborio: 15000 images\n",
      "Basmati: 15000 images\n",
      "Ipsala: 15000 images\n",
      "Jasmine: 15000 images\n",
      "Karacadag: 15000 images\n"
     ]
    }
   ],
   "source": [
    "import os\n",
    "\n",
    "original_path = \"Rice_Image_Dataset\"\n",
    "\n",
    "for class_name in os.listdir(original_path):\n",
    "    full_path = os.path.join(original_path, class_name)\n",
    "    if os.path.isdir(full_path):\n",
    "        print(f\"{class_name}: {len(os.listdir(full_path))} images\")\n"
   ]
  },
  {
   "cell_type": "code",
   "execution_count": 3,
   "id": "7e9b67a1-13a3-4c5c-9f8e-8ab8e4519b1f",
   "metadata": {},
   "outputs": [],
   "source": [
    "\n",
    "import os\n",
    "import shutil\n",
    "import random\n",
    "\n",
    "# Paths\n",
    "SOURCE_DIR = \"Rice_Image_Dataset\"\n",
    "DEST_DIR = \"small_split_dataset\"\n",
    "TRAIN_SIZE = 800\n",
    "TEST_SIZE = 200\n",
    "\n",
    "# Make base destination folders\n",
    "for subset in ['train', 'test']:\n",
    "    os.makedirs(os.path.join(DEST_DIR, subset), exist_ok=True)\n",
    "\n",
    "# Loop through each class\n",
    "for class_name in os.listdir(SOURCE_DIR):\n",
    "    class_path = os.path.join(SOURCE_DIR, class_name)\n",
    "    \n",
    "    # Skip if not a folder\n",
    "    if not os.path.isdir(class_path):\n",
    "        continue\n",
    "    \n",
    "    # List and shuffle image files\n",
    "    images = os.listdir(class_path)\n",
    "    random.shuffle(images)\n",
    "    \n",
    "    # Select only 1000 images\n",
    "    selected_images = images[:TRAIN_SIZE + TEST_SIZE]\n",
    "    train_imgs = selected_images[:TRAIN_SIZE]\n",
    "    test_imgs = selected_images[TRAIN_SIZE:]\n",
    "    \n",
    "    # Create class folders\n",
    "    train_class_dir = os.path.join(DEST_DIR, 'train', class_name)\n",
    "    test_class_dir = os.path.join(DEST_DIR, 'test', class_name)\n",
    "    os.makedirs(train_class_dir, exist_ok=True)\n",
    "    os.makedirs(test_class_dir, exist_ok=True)\n",
    "    \n",
    "    # Copy train images\n",
    "    for img in train_imgs:\n",
    "        shutil.copy(os.path.join(class_path, img), os.path.join(train_class_dir, img))\n",
    "    \n",
    "    # Copy test images\n",
    "    for img in test_imgs:\n",
    "        shutil.copy(os.path.join(class_path, img), os.path.join(test_class_dir, img))\n",
    "\n"
   ]
  },
  {
   "cell_type": "code",
   "execution_count": null,
   "id": "39fe9b07-3c6d-4882-b249-c1ba61fb449a",
   "metadata": {},
   "outputs": [],
   "source": []
  }
 ],
 "metadata": {
  "kernelspec": {
   "display_name": "Python 3 (ipykernel)",
   "language": "python",
   "name": "python3"
  },
  "language_info": {
   "codemirror_mode": {
    "name": "ipython",
    "version": 3
   },
   "file_extension": ".py",
   "mimetype": "text/x-python",
   "name": "python",
   "nbconvert_exporter": "python",
   "pygments_lexer": "ipython3",
   "version": "3.12.7"
  }
 },
 "nbformat": 4,
 "nbformat_minor": 5
}
